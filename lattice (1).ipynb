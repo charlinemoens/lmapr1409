{
 "cells": [
  {
   "cell_type": "code",
   "execution_count": 2,
   "id": "5d6b4eb5",
   "metadata": {},
   "outputs": [
    {
     "data": {
      "application/vnd.jupyter.widget-view+json": {
       "model_id": "50eb7af7edc74d68a90e74814e49e579",
       "version_major": 2,
       "version_minor": 0
      },
      "text/plain": [
       "Retrieving MaterialsDoc documents:   0%|          | 0/1 [00:00<?, ?it/s]"
      ]
     },
     "metadata": {},
     "output_type": "display_data"
    },
    {
     "name": "stdout",
     "output_type": "stream",
     "text": [
      "vecteurs de bases de ses réseaux directs:\n",
      "[[ 3.62273112 -0.          2.09158531]\n",
      " [ 1.20757704  3.41554577  2.09158531]\n",
      " [-0.         -0.          4.18317063]]\n",
      "vecteurs de bases de ses réseaux reciproque:\n",
      "[[ 1.73437804 -0.61319486  0.        ]\n",
      " [ 0.          1.83958457  0.        ]\n",
      " [-0.86718902 -0.61319486  1.50201507]]\n",
      "son type de maille:\n",
      "cubic\n",
      "son système cristallin:\n",
      "cubic\n",
      "son groupe ponctuel:\n",
      "m-3m\n"
     ]
    }
   ],
   "source": [
    "from pymatgen.symmetry.analyzer import SpacegroupAnalyzer\n",
    "from pymatgen.ext.matproj import MPRester\n",
    "with MPRester(\"rxafJw6hy0L68C4ZGJP1j4UXfbE4nmS8\") as m:\n",
    "    s= m.get_structure_by_material_id(\"mp-315\")\n",
    "    \n",
    "spacegroup = SpacegroupAnalyzer(s)\n",
    "\n",
    "#vecteurs de bases de ses réseaux directs\n",
    "print(\"vecteurs de bases de ses réseaux directs:\")\n",
    "print(s.lattice.matrix)\n",
    "\n",
    "#vecteurs de bases de ses réseaux reciproques\n",
    "print(\"vecteurs de bases de ses réseaux reciproque:\")\n",
    "print(s.lattice.reciprocal_lattice.matrix)\n",
    "\n",
    "#son type de maille\n",
    "print(\"son type de maille:\")\n",
    "print(spacegroup.get_lattice_type())\n",
    "\n",
    "#son système cristallin\n",
    "print(\"son système cristallin:\")\n",
    "print(spacegroup.get_crystal_system())\n",
    "\n",
    "# son groupe ponctuel\n",
    "print(\"son groupe ponctuel:\")\n",
    "print(spacegroup.get_point_group_symbol())"
   ]
  },
  {
   "cell_type": "code",
   "execution_count": null,
   "id": "18b33604",
   "metadata": {},
   "outputs": [],
   "source": []
  }
 ],
 "metadata": {
  "kernelspec": {
   "display_name": "Python 3 (ipykernel)",
   "language": "python",
   "name": "python3"
  },
  "language_info": {
   "codemirror_mode": {
    "name": "ipython",
    "version": 3
   },
   "file_extension": ".py",
   "mimetype": "text/x-python",
   "name": "python",
   "nbconvert_exporter": "python",
   "pygments_lexer": "ipython3",
   "version": "3.9.13"
  }
 },
 "nbformat": 4,
 "nbformat_minor": 5
}
