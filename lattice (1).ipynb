{
 "cells": [
  {
   "cell_type": "code",
   "execution_count": 11,
   "id": "5d6b4eb5",
   "metadata": {},
   "outputs": [
    {
     "name": "stdout",
     "output_type": "stream",
     "text": [
      "vecteurs de bases de ses réseaux directs:\n",
      "[[0.       2.846042 2.846042]\n",
      " [2.846042 0.       2.846042]\n",
      " [2.846042 2.846042 0.      ]]\n",
      "vecteurs de bases de ses réseaux direct:\n",
      "[[-1.1038462  1.1038462  1.1038462]\n",
      " [ 1.1038462 -1.1038462  1.1038462]\n",
      " [ 1.1038462  1.1038462 -1.1038462]]\n",
      "son type de maille:\n",
      "cubic\n",
      "son système cristallin:\n",
      "cubic\n",
      "son groupe ponctuel:\n",
      "m-3m\n"
     ]
    }
   ],
   "source": [
    "from pymatgen.symmetry.analyzer import SpacegroupAnalyzer\n",
    "from pymatgen.ext.matproj import MPRester\n",
    "with MPRester(\"l5AGfhx1AC79SG4hW\") as m:\n",
    "    s= m.get_structure_by_material_id(\"mp-866141\")\n",
    "    \n",
    "spacegroup = SpacegroupAnalyzer(s)\n",
    "\n",
    "#vecteurs de bases de ses réseaux directs\n",
    "print(\"vecteurs de bases de ses réseaux directs:\")\n",
    "print(s.lattice.matrix)\n",
    "\n",
    "#vecteurs de bases de ses réseaux reciproques\n",
    "print(\"vecteurs de bases de ses réseaux direct:\")\n",
    "print(s.lattice.reciprocal_lattice.matrix)\n",
    "\n",
    "#son type de maille\n",
    "print(\"son type de maille:\")\n",
    "print(spacegroup.get_lattice_type())\n",
    "\n",
    "#son système cristallin\n",
    "print(\"son système cristallin:\")\n",
    "print(spacegroup.get_crystal_system())\n",
    "\n",
    "# son groupe ponctuel\n",
    "print(\"son groupe ponctuel:\")\n",
    "print(spacegroup.get_point_group_symbol())"
   ]
  },
  {
   "cell_type": "code",
   "execution_count": null,
   "id": "18b33604",
   "metadata": {},
   "outputs": [],
   "source": []
  }
 ],
 "metadata": {
  "kernelspec": {
   "display_name": "Python 3",
   "language": "python",
   "name": "python3"
  },
  "language_info": {
   "codemirror_mode": {
    "name": "ipython",
    "version": 3
   },
   "file_extension": ".py",
   "mimetype": "text/x-python",
   "name": "python",
   "nbconvert_exporter": "python",
   "pygments_lexer": "ipython3",
   "version": "3.6.8"
  }
 },
 "nbformat": 4,
 "nbformat_minor": 5
}
