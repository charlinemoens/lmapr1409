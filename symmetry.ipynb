{
 "cells": [
  {
   "cell_type": "code",
   "execution_count": 16,
   "id": "ebaff706",
   "metadata": {},
   "outputs": [],
   "source": [
    "from pymatgen.symmetry.analyzer import SpacegroupAnalyzer\n",
    "from jupyter_jsmol.pymatgen import quick_view\n",
    "from pymatgen.ext.matproj import MPRester\n",
    "from pymatgen.io.cif import CifWriter\n",
    "\n",
    "with MPRester(\"l5AGfhx1AC79SG4hW\" ) as m:\n",
    "    s= m.get_structure_by_material_id(\"mp-866141\")\n",
    "    \n",
    "\n",
    "\n",
    "a = SpacegroupAnalyzer(s)\n",
    "s_conv = a.get_conventional_standard_structure()\n"
   ]
  },
  {
   "cell_type": "raw",
   "id": "65645288",
   "metadata": {},
   "source": [
    "\n",
    "      "
   ]
  },
  {
   "cell_type": "code",
   "execution_count": 3,
   "id": "99f64bda",
   "metadata": {},
   "outputs": [],
   "source": [
    "print(\"PREMIERE SYMETRIE\")\n",
    "print(\"Lorsque l élément Ti initialement en [1/2,1/2,0] subit une transformation et termine en [-1/2,-1/2,0].\" \n",
    "      \"On en déduit que la symetrie est une inversion avec pour matrice de rotation\")\n",
    "print(\"[[-1,0,0],\"\n",
    "     \"[0,-1,0],\"\n",
    "     \"[0,0,-1]]\")\n",
    "print(\"La matrice de translation associée à cette symétrie est la suivante [0,0,0]\")"
   ]
  },
  {
   "cell_type": "code",
   "execution_count": 4,
   "id": "b38bf9be",
   "metadata": {},
   "outputs": [
    {
     "data": {
      "application/vnd.jupyter.widget-view+json": {
       "model_id": "4a1b4e4ebd344100ab6edf7d96a3eb74",
       "version_major": 2,
       "version_minor": 0
      },
      "text/plain": [
       "JsmolView(layout=Layout(align_self='stretch', height='400px'))"
      ]
     },
     "metadata": {},
     "output_type": "display_data"
    }
   ],
   "source": [
    "sym1 = quick_view(s)\n",
    "display(sym1)\n",
    "sym1.script(\"draw symop 2 {atomno=2}\")"
   ]
  },
  {
   "cell_type": "code",
   "execution_count": 5,
   "id": "b0d5a140",
   "metadata": {},
   "outputs": [],
   "source": [
    "print(\"DEUXIEME SYMETRIE\")\n",
    "print(\"Lorsque l élément Si initialement en [1/2,1/2,1/2] subit une transformation et termine en [0,1/2,1/2].\" \n",
    "      \"On en déduit que la symetrie est une réflexion avec pour matrice de rotation\")\n",
    "print(\"[[-1,1,0],\"\n",
    "     \"[0,1,0],\"\n",
    "     \"[0,0,1]]\")\n",
    "print(\"La matrice de translation associée à cette symétrie est la suivante [0,0,0]\")"
   ]
  },
  {
   "cell_type": "code",
   "execution_count": 6,
   "id": "83b27ea0",
   "metadata": {},
   "outputs": [
    {
     "data": {
      "application/vnd.jupyter.widget-view+json": {
       "model_id": "a92959fcbd8e4a0fb71f09b9f30ee5cf",
       "version_major": 2,
       "version_minor": 0
      },
      "text/plain": [
       "JsmolView(layout=Layout(align_self='stretch', height='400px'))"
      ]
     },
     "metadata": {},
     "output_type": "display_data"
    }
   ],
   "source": [
    "sym2 = quick_view(s)\n",
    "display(sym2)"
   ]
  },
  {
   "cell_type": "code",
   "execution_count": 7,
   "id": "1f284e06",
   "metadata": {},
   "outputs": [],
   "source": [
    "sym2.script(\"draw symop 10 {atomno=5}\")"
   ]
  },
  {
   "cell_type": "code",
   "execution_count": 8,
   "id": "8a0e98cf",
   "metadata": {},
   "outputs": [
    {
     "data": {
      "application/vnd.jupyter.widget-view+json": {
       "model_id": "0921730287e6410d8c0e88aa069f4b29",
       "version_major": 2,
       "version_minor": 0
      },
      "text/plain": [
       "JsmolView(layout=Layout(align_self='stretch', height='400px'))"
      ]
     },
     "metadata": {},
     "output_type": "display_data"
    }
   ],
   "source": [
    "print(\"TROISIEME SYMETRIE\")\n",
    "print(\"Lorsque l élément Fe initialement en [3/4,3/4,1/4] subit une transformation et termine en [3/4,-3/4,3/4].\" \n",
    "      \"On en déduit que la symetrie est une roto-translation avec pour matrice de rotation\")\n",
    "print(\"[[1,0,0],\"\n",
    "     \"[0,-1,0],\"\n",
    "     \"[0,0,1]]\")\n",
    "print(\"La matrice de translation associée à cette symétrie est la suivante [0,0,1/2]\")"
   ]
  },
  {
   "cell_type": "code",
   "execution_count": 9,
   "id": "382cd80f",
   "metadata": {},
   "outputs": [],
   "source": [
    "viewSym3 = quick_view(structure)\n",
    "display(viewSym3)\n",
    "viewSym3.script('draw SYMOP \"y,-x,z+1/2\" {3/4 3/4 1/4}')  "
   ]
  },
  {
   "cell_type": "code",
   "execution_count": null,
   "id": "4ec770b1",
   "metadata": {},
   "outputs": [],
   "source": []
  }
 ],
 "metadata": {
  "kernelspec": {
   "display_name": "Python 3",
   "language": "python",
   "name": "python3"
  },
  "language_info": {
   "codemirror_mode": {
    "name": "ipython",
    "version": 3
   },
   "file_extension": ".py",
   "mimetype": "text/x-python",
   "name": "python",
   "nbconvert_exporter": "python",
   "pygments_lexer": "ipython3",
   "version": "3.6.8"
  }
 },
 "nbformat": 4,
 "nbformat_minor": 5
}
