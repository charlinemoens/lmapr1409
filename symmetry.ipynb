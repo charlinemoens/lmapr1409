{
 "cells": [
  {
   "cell_type": "code",
   "execution_count": null,
   "id": "58f54ee0",
   "metadata": {},
   "outputs": [],
   "source": [
    "from pymatgen.symmetry.analyzer import SpacegroupAnalyzer\n",
    "from pymatgen.ext.matproj import MPRester\n",
    "with MPRester(\"l5AGfhx1AC79SG4hW\") as m:\n",
    "    s= m.get_structure_by_material_id(\"mp-866141\")\n",
    "    \n",
    "spacegroup = SpacegroupAnalyzer(structure)\n",
    "\n",
    "from jupyter_jsmol import JsmolView\n",
    "from ipywidgets import Layout, widgets, interact, Output\n",
    "from IPython.display import display\n",
    "\n",
    "from pymatgen.core import Lattice, Structure\n",
    "from jupyter_jsmol.pymatgen import quick_view\n",
    "\n",
    "\n"
   ]
  },
  {
   "cell_type": "code",
   "execution_count": 2,
   "id": "d52aeea2",
   "metadata": {},
   "outputs": [],
   "source": [
    "from jupyter_jsmol import JsmolView\n",
    "from ipywidgets import Layout, widgets, interact, Output\n",
    "from IPython.display import display\n",
    "\n",
    "view1 = JsmolView()\n",
    "\n",
    "@interact(rotation=widgets.ToggleButton())\n",
    "def load_mode(rotation):\n",
    "    view1.script('rotate {}'.format('on' if rotation else 'off'))  \n",
    "\n",
    "display(view1)\n",
    "\n",
    "view1.load_file('data/CaF2.cif', '{1 1 1}', inline=True)"
   ]
  },
  {
   "cell_type": "code",
   "execution_count": 1,
   "id": "7aeb3cd3",
   "metadata": {},
   "outputs": [
    {
     "data": {
      "application/vnd.jupyter.widget-view+json": {
       "model_id": "54a80d15da824576ba62e2d336595a60",
       "version_major": 2,
       "version_minor": 0
      },
      "text/plain": [
       "interactive(children=(ToggleButton(value=False, description='rotation'), Output()), _dom_classes=('widget-inte…"
      ]
     },
     "metadata": {},
     "output_type": "display_data"
    },
    {
     "data": {
      "application/vnd.jupyter.widget-view+json": {
       "model_id": "a66657dee63a4a2ca63bd0930e376745",
       "version_major": 2,
       "version_minor": 0
      },
      "text/plain": [
       "JsmolView(layout=Layout(align_self='stretch', height='400px'))"
      ]
     },
     "metadata": {},
     "output_type": "display_data"
    },
    {
     "ename": "FileNotFoundError",
     "evalue": "[Errno 2] No such file or directory: 'TiFe2Si.cif'",
     "output_type": "error",
     "traceback": [
      "\u001b[0;31m---------------------------------------------------------------------------\u001b[0m",
      "\u001b[0;31mFileNotFoundError\u001b[0m                         Traceback (most recent call last)",
      "\u001b[0;32m<ipython-input-1-ff050a32a50b>\u001b[0m in \u001b[0;36m<module>\u001b[0;34m\u001b[0m\n\u001b[1;32m     13\u001b[0m \u001b[0mdisplay\u001b[0m\u001b[0;34m(\u001b[0m\u001b[0mview1\u001b[0m\u001b[0;34m)\u001b[0m\u001b[0;34m\u001b[0m\u001b[0;34m\u001b[0m\u001b[0m\n\u001b[1;32m     14\u001b[0m \u001b[0;34m\u001b[0m\u001b[0m\n\u001b[0;32m---> 15\u001b[0;31m \u001b[0mview1\u001b[0m\u001b[0;34m.\u001b[0m\u001b[0mload_file\u001b[0m\u001b[0;34m(\u001b[0m\u001b[0;34m'TiFe2Si.cif'\u001b[0m\u001b[0;34m,\u001b[0m \u001b[0;34m'{2 2 2}'\u001b[0m\u001b[0;34m,\u001b[0m \u001b[0minline\u001b[0m\u001b[0;34m=\u001b[0m\u001b[0;32mTrue\u001b[0m\u001b[0;34m)\u001b[0m \u001b[0;31m#le {2 2 2} indique le nombre de maillele selon chaque longueur\u001b[0m\u001b[0;34m\u001b[0m\u001b[0;34m\u001b[0m\u001b[0m\n\u001b[0m\u001b[1;32m     16\u001b[0m \u001b[0;34m\u001b[0m\u001b[0m\n\u001b[1;32m     17\u001b[0m \u001b[0;34m\u001b[0m\u001b[0m\n",
      "\u001b[0;32m/usr/local/lib/python3.6/site-packages/jupyter_jsmol/viewer.py\u001b[0m in \u001b[0;36mload_file\u001b[0;34m(self, filename, inline, *args)\u001b[0m\n\u001b[1;32m     91\u001b[0m \u001b[0;34m\u001b[0m\u001b[0m\n\u001b[1;32m     92\u001b[0m         \u001b[0;32mif\u001b[0m \u001b[0minline\u001b[0m\u001b[0;34m:\u001b[0m\u001b[0;34m\u001b[0m\u001b[0;34m\u001b[0m\u001b[0m\n\u001b[0;32m---> 93\u001b[0;31m             \u001b[0;32mwith\u001b[0m \u001b[0mopen\u001b[0m\u001b[0;34m(\u001b[0m\u001b[0mfilename\u001b[0m\u001b[0;34m,\u001b[0m \u001b[0mmode\u001b[0m\u001b[0;34m=\u001b[0m\u001b[0;34m\"r\"\u001b[0m\u001b[0;34m)\u001b[0m \u001b[0;32mas\u001b[0m \u001b[0mfile\u001b[0m\u001b[0;34m:\u001b[0m\u001b[0;34m\u001b[0m\u001b[0;34m\u001b[0m\u001b[0m\n\u001b[0m\u001b[1;32m     94\u001b[0m                 \u001b[0mdata\u001b[0m \u001b[0;34m=\u001b[0m \u001b[0mfile\u001b[0m\u001b[0;34m.\u001b[0m\u001b[0mread\u001b[0m\u001b[0;34m(\u001b[0m\u001b[0;34m)\u001b[0m\u001b[0;34m\u001b[0m\u001b[0;34m\u001b[0m\u001b[0m\n\u001b[1;32m     95\u001b[0m         \u001b[0;32melse\u001b[0m\u001b[0;34m:\u001b[0m\u001b[0;34m\u001b[0m\u001b[0;34m\u001b[0m\u001b[0m\n",
      "\u001b[0;31mFileNotFoundError\u001b[0m: [Errno 2] No such file or directory: 'TiFe2Si.cif'"
     ]
    }
   ],
   "source": [
    "from jupyter_jsmol import JsmolView\n",
    "from ipywidgets import Layout, widgets, interact, Output\n",
    "from IPython.display import display\n",
    "from pymatgen.core import Lattice, Structure\n",
    "from jupyter_jsmol.pymatgen import quick_view\n",
    "\n",
    "view1 = JsmolView()\n",
    "\n",
    "@interact(rotation=widgets.ToggleButton())\n",
    "def load_mode(rotation):\n",
    "    view1.script('rotate {}'.format('on' if rotation else 'off'))  \n",
    "\n",
    "display(view1)\n",
    "\n",
    "view1.load_file('TiFe2Si.cif', '{2 2 2}', inline=True) #le {2 2 2} indique le nombre de maillele selon chaque longueur\n",
    "\n",
    "\n",
    "\n",
    "view2 = JsmolView()\n",
    "\n",
    "@interact(mode=widgets.IntSlider(min=1, max=9, step=1, value=6))\n",
    "def load_mode(mode):\n",
    "    view2.script('frame {}'.format(mode))\n",
    "\n",
    "@interact(amplitude=widgets.FloatSlider(min=0.1, max=2, value=1.))\n",
    "def set_amplitude(amplitude):\n",
    "    view2.script('vibration SCALE {};'.format(amplitude))\n",
    "\n",
    "@interact(period=widgets.FloatSlider(min=.1, max=2, value=1))\n",
    "def set_period(period):\n",
    "    view2.script('vibration {};'.format(period))\n",
    "\n",
    "\n",
    "@interact(pause=widgets.ToggleButton())\n",
    "def call_stop(pause):\n",
    "    view2.script('vibration {};'.format('off' if  pause else 'on'))\n",
    "\n",
    "\n",
    "display(view2)\n",
    "\n",
    "view2.load_file('TiFe2Si.cif')\n",
    "view2.script('frame 6; vibration SCALE 1; vibration 1')\n",
    "\n",
    "\n",
    "coords = [[0, 0, 0], [0.25,0.25,0.25], [0.75,0.75,0.75], [0.5,0.5,0.5]]  #trouvé via les taches précédentes.\n",
    "lattice = Lattice.from_parameters(a=4.025, b=4.025, c=4.025, alpha=60, beta=60, gamma=60)\n",
    "struct = Structure(lattice, [\"Ti\", \"Fe\", \"Fe\", \"Si\"], coords)\n",
    "quick_view(struct, conventional=True, supercell=[1,1,1]) #vue interactive de la cellule."
   ]
  },
  {
   "cell_type": "code",
   "execution_count": null,
   "id": "9639b106",
   "metadata": {},
   "outputs": [],
   "source": []
  }
 ],
 "metadata": {
  "kernelspec": {
   "display_name": "Python 3",
   "language": "python",
   "name": "python3"
  },
  "language_info": {
   "codemirror_mode": {
    "name": "ipython",
    "version": 3
   },
   "file_extension": ".py",
   "mimetype": "text/x-python",
   "name": "python",
   "nbconvert_exporter": "python",
   "pygments_lexer": "ipython3",
   "version": "3.6.8"
  }
 },
 "nbformat": 4,
 "nbformat_minor": 5
}
