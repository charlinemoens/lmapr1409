{
 "cells": [
  {
   "cell_type": "code",
   "execution_count": 6,
   "id": "58f54ee0",
   "metadata": {},
   "outputs": [],
   "source": [
    "from pymatgen.symmetry.analyzer import SpacegroupAnalyzer\n",
    "from jupyter_jsmol.pymatgen import quick_view\n",
    "from pymatgen.ext.matproj import MPRester\n",
    "from pymatgen.io.cif import CifWriter\n",
    "\n",
    "with MPRester(\"l5AGfhx1AC79SG4hW\" ) as m:\n",
    "    s= m.get_structure_by_material_id(\"mp-315\")\n",
    "    \n",
    "\n",
    "\n",
    "a = SpacegroupAnalyzer(s)\n",
    "s_conv = a.get_conventional_standard_structure()"
   ]
  },
  {
   "cell_type": "code",
   "execution_count": 7,
   "id": "d52aeea2",
   "metadata": {},
   "outputs": [
    {
     "name": "stdout",
     "output_type": "stream",
     "text": [
      "PREMIERE SYMETRIE\n",
      "Lorsque l élément Pb initialement en [1,1,1] subit une transformation et termine en [-1,-1,-1].On en déduit que la symetrie est une inversion avec pour matrice de rotation\n",
      "[[-1,0,0],[0,-1,0],[0,0,-1]]\n",
      "La matrice de translation associée à cette symétrie est la suivante [0,0,0]\n"
     ]
    },
    {
     "data": {
      "application/vnd.jupyter.widget-view+json": {
       "model_id": "ac80e43619ce4b139a5731c7f6a35b5c",
       "version_major": 2,
       "version_minor": 0
      },
      "text/plain": [
       "JsmolView(layout=Layout(align_self='stretch', height='400px'))"
      ]
     },
     "metadata": {},
     "output_type": "display_data"
    }
   ],
   "source": [
    "print(\"PREMIERE SYMETRIE\")\n",
    "print(\"Lorsque l élément Pb initialement en [1,1,1] subit une transformation et termine en [-1,-1,-1].\" \n",
    "      \"On en déduit que la symetrie est une inversion avec pour matrice de rotation\")\n",
    "print(\"[[-1,0,0],\"\n",
    "     \"[0,-1,0],\"\n",
    "     \"[0,0,-1]]\")\n",
    "print(\"La matrice de translation associée à cette symétrie est la suivante [0,0,0]\")\n",
    "\n",
    "sym1 = quick_view(s_conv)\n",
    "display(sym1)\n",
    "sym1.script(\"draw symop 2 {atomno=2}\")"
   ]
  },
  {
   "cell_type": "code",
   "execution_count": 8,
   "id": "02540a66",
   "metadata": {},
   "outputs": [
    {
     "name": "stdout",
     "output_type": "stream",
     "text": [
      "DEUXIEME SYMETRIE\n",
      "Lorsque l élément F initialement en [1/2,1/2,1/2] subit une transformation et termine en [0,1/2,1/2].On en déduit que la symetrie est une réflexion avec pour matrice de rotation\n",
      "[[-1,1,0],[0,1,0],[0,0,1]]\n",
      "La matrice de translation associée à cette symétrie est la suivante [0,0,0]\n"
     ]
    },
    {
     "data": {
      "application/vnd.jupyter.widget-view+json": {
       "model_id": "ca429ecee8794848924d6b68882eb081",
       "version_major": 2,
       "version_minor": 0
      },
      "text/plain": [
       "JsmolView(layout=Layout(align_self='stretch', height='400px'))"
      ]
     },
     "metadata": {},
     "output_type": "display_data"
    }
   ],
   "source": [
    "print(\"DEUXIEME SYMETRIE\")\n",
    "print(\"Lorsque l élément F initialement en [1/2,1/2,1/2] subit une transformation et termine en [0,1/2,1/2].\" \n",
    "      \"On en déduit que la symetrie est une réflexion avec pour matrice de rotation\")\n",
    "print(\"[[-1,1,0],\"\n",
    "     \"[0,1,0],\"\n",
    "     \"[0,0,1]]\")\n",
    "print(\"La matrice de translation associée à cette symétrie est la suivante [0,0,0]\")\n",
    "\n",
    "sym2 = quick_view(s_conv)\n",
    "display(sym2)\n",
    "sym2.script(\"draw symop 10 {atomno=5}\") "
   ]
  },
  {
   "cell_type": "code",
   "execution_count": 9,
   "id": "d511cde4",
   "metadata": {},
   "outputs": [
    {
     "name": "stdout",
     "output_type": "stream",
     "text": [
      "TROISIEME SYMETRIE\n",
      "Lorsque l élément Pb initialement en[1,1,0] subit une transformation et termine en [1,-1,1].On en déduit que la symetrie est une roto-translation avec pour matrice de rotation\n",
      "[[1,0,0],[0,-1,0],[0,0,1]]\n",
      "La matrice de translation associée à cette symétrie est la suivante [0,0,1]\n"
     ]
    },
    {
     "data": {
      "application/vnd.jupyter.widget-view+json": {
       "model_id": "0af415f90657478a9553ef62d2e52c97",
       "version_major": 2,
       "version_minor": 0
      },
      "text/plain": [
       "JsmolView(layout=Layout(align_self='stretch', height='400px'))"
      ]
     },
     "metadata": {},
     "output_type": "display_data"
    }
   ],
   "source": [
    "print(\"TROISIEME SYMETRIE\")\n",
    "print(\"Lorsque l élément Pb initialement en[1,1,0] subit une transformation et termine en [1,-1,1].\" \n",
    "      \"On en déduit que la symetrie est une roto-translation avec pour matrice de rotation\")\n",
    "print(\"[[1,0,0],\"\n",
    "     \"[0,-1,0],\"\n",
    "     \"[0,0,1]]\")\n",
    "print(\"La matrice de translation associée à cette symétrie est la suivante [0,0,1]\")\n",
    "\n",
    "sym3 = quick_view(s_conv)\n",
    "display(sym3)\n",
    "sym3.script('draw SYMOP \"y,-x,z+1/2\" {3/4 3/4 1/4}')"
   ]
  },
  {
   "cell_type": "code",
   "execution_count": null,
   "id": "296ad48f",
   "metadata": {},
   "outputs": [],
   "source": []
  }
 ],
 "metadata": {
  "kernelspec": {
   "display_name": "Python 3 (ipykernel)",
   "language": "python",
   "name": "python3"
  },
  "language_info": {
   "codemirror_mode": {
    "name": "ipython",
    "version": 3
   },
   "file_extension": ".py",
   "mimetype": "text/x-python",
   "name": "python",
   "nbconvert_exporter": "python",
   "pygments_lexer": "ipython3",
   "version": "3.9.13"
  }
 },
 "nbformat": 4,
 "nbformat_minor": 5
}
